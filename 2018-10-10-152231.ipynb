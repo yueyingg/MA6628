{
 "cells": [
  {
   "cell_type": "code",
   "execution_count": 1,
   "metadata": {
    "collapsed": false
   },
   "outputs": [
   ],
   "source": [
    "import numpy as np\n",
    "import scipy.stats as ss\n",
    "import math\n",
    "from datetime import datetime\n",
    "from scipy import optimize"
   ]
  },
  {
   "cell_type": "code",
   "execution_count": 2,
   "metadata": {
    "collapsed": false
   },
   "outputs": [
   ],
   "source": [
    "def d1f(St, K, t, T, r, sigma):\n",
    "    d1 = (math.log(St / K) + (r + 0.5 * sigma ** 2)\n",
    "          * (T - t)) / (sigma * math.sqrt(T - t))\n",
    "    return d1"
   ]
  },
  {
   "cell_type": "code",
   "execution_count": 3,
   "metadata": {
    "collapsed": false
   },
   "outputs": [
   ],
   "source": [
    "def BSM_call_value(St, K, t, T, r, sigma):\n",
    "    d1 = d1f(St, K, t, T, r, sigma)\n",
    "    d2 = d1 - sigma * math.sqrt(T - t)\n",
    "    call_value = St * ss.norm.cdf(d1) - math.exp(-r * (T - t)) * K * ss.norm.cdf(d2)\n",
    "    return call_value"
   ]
  },
  {
   "cell_type": "code",
   "execution_count": 4,
   "metadata": {
    "collapsed": false
   },
   "outputs": [
   ],
   "source": [
    "def implied_vol(S0, K, T, r, P0):\n",
    "    Initial_guess = .3\n",
    "    error = lambda sigma: (BSM_call_value(S0, K, 0, T, r, sigma) - P0)**2\n",
    "    opt = optimize.fmin(error, Initial_guess);\n",
    "    return opt[0]"
   ]
  },
  {
   "cell_type": "code",
   "execution_count": 5,
   "metadata": {
    "collapsed": false
   },
   "outputs": [
   ],
   "source": [
    "today = datetime.strptime('Sep 27, 2018', '%b %d, %Y')\n",
    "maturity=datetime.strptime('Dec 31, 2018','%b %d, %Y')\n",
    "S0 = 290.68\n",
    "K = 288\n",
    "r = 0.02\n",
    "P0 = 9.23\n",
    "T = (maturity -today).days"
   ]
  },
  {
   "cell_type": "code",
   "execution_count": 6,
   "metadata": {
    "collapsed": false
   },
   "outputs": [
    {
     "name": "stdout",
     "output_type": "stream",
     "text": [
      "('If the volatility is 30%, the difference between BSM call price and market call price is %s', 267.43249650377481)\n",
      "Optimization terminated successfully.\n",
      "         Current function value: 85.192900\n",
      "         Iterations: 17\n",
      "         Function evaluations: 42\n",
      "('Implied volatility is %s', -8.3266726846886741e-16)\n"
     ]
    }
   ],
   "source": [
    "print(\"If the volatility is 30%, the difference between BSM call price and market call price is %s\", (BSM_call_value(S0, K, 0, T, r, 0.3) - P0))\n",
    "print('Implied volatility is %s', implied_vol(S0, K, T, r, P0))"
   ]
  }
 ],
 "metadata": {
  "kernelspec": {
   "display_name": "SageMath (stable)",
   "name": "sagemath"
  },
  "language_info": {
   "codemirror_mode": {
    "name": "ipython",
    "version": 2
   },
   "file_extension": ".py",
   "mimetype": "text/x-python",
   "name": "python",
   "nbconvert_exporter": "python",
   "pygments_lexer": "ipython2",
   "version": "2.7.15"
  }
 },
 "nbformat": 4,
 "nbformat_minor": 0
}