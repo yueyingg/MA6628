{
 "cells": [
  {
   "cell_type": "code",
   "execution_count": 35,
   "metadata": {
    "collapsed": false
   },
   "outputs": [
   ],
   "source": [
    "import math"
   ]
  },
  {
   "cell_type": "code",
   "execution_count": 36,
   "metadata": {
    "collapsed": false
   },
   "outputs": [
   ],
   "source": [
    "def prime(x):\n",
    "    for i in range(2,x):\n",
    "        if x%i == 0:\n",
    "            return false\n",
    "            break\n",
    "    return true"
   ]
  },
  {
   "cell_type": "code",
   "execution_count": 37,
   "metadata": {
    "collapsed": false
   },
   "outputs": [
   ],
   "source": [
    "def get_prime(x,y):\n",
    "    primes = []\n",
    "    for i in range(x,y):\n",
    "        if prime(i) == true:\n",
    "            primes.append(i)\n",
    "    return primes"
   ]
  },
  {
   "cell_type": "code",
   "execution_count": 38,
   "metadata": {
    "collapsed": false
   },
   "outputs": [
   ],
   "source": [
    "def twin_prime(prime):\n",
    "    pair = 0\n",
    "    for i in range(0,len(prime)-1):\n",
    "        if (prime[i+1] - prime[i]) == 2:\n",
    "            pair += 1\n",
    "    return pair"
   ]
  },
  {
   "cell_type": "code",
   "execution_count": 39,
   "metadata": {
    "collapsed": false
   },
   "outputs": [
   ],
   "source": [
    "def get_twin(prime):\n",
    "    twin =[]\n",
    "    for i in range(0,len(prime)-1):\n",
    "        if (prime[i+1] - prime[i]) == 2:\n",
    "            twin.append((prime[i],prime[i+1]))\n",
    "    return twin"
   ]
  },
  {
   "cell_type": "code",
   "execution_count": 40,
   "metadata": {
    "collapsed": false
   },
   "outputs": [
   ],
   "source": [
    "result = []\n",
    "for i in range (0,998):\n",
    "    result.append(twin_prime(get_prime(1000+1000*i, 2000+1000*i)))"
   ]
  },
  {
   "cell_type": "code",
   "execution_count": 0,
   "metadata": {
    "collapsed": false
   },
   "outputs": [
   ],
   "source": [
    "pair =sum(x for x in result)\n",
    "last_twin = get_twin(get_prime(990000,1000000))"
   ]
  },
  {
   "cell_type": "code",
   "execution_count": 0,
   "metadata": {
    "collapsed": false
   },
   "outputs": [
   ],
   "source": [
    "print('The number of twin primes that are bigger than one thousand but smaller than one million is %d'%(pair))\n",
    "print('The biggest twin prime I could find are',str(last_twin[len(last_twin)-1]))"
   ]
  }
 ],
 "metadata": {
  "kernelspec": {
   "display_name": "SageMath (stable)",
   "name": "sagemath"
  },
  "language_info": {
   "codemirror_mode": {
    "name": "ipython",
    "version": 2
   },
   "file_extension": ".py",
   "mimetype": "text/x-python",
   "name": "python",
   "nbconvert_exporter": "python",
   "pygments_lexer": "ipython2",
   "version": "2.7.15"
  }
 },
 "nbformat": 4,
 "nbformat_minor": 0
}